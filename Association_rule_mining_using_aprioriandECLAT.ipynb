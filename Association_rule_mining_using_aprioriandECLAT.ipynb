{
  "nbformat": 4,
  "nbformat_minor": 0,
  "metadata": {
    "colab": {
      "provenance": []
    },
    "kernelspec": {
      "name": "python3",
      "display_name": "Python 3"
    },
    "language_info": {
      "name": "python"
    }
  },
  "cells": [
    {
      "cell_type": "markdown",
      "source": [
        "# **Association Rule Mining**\n",
        "Association rule mining (ARM) finds frequently occurring if-then patterns in the data. The output is in the form of rules that describe the most important combinations of features that co-occur frequently.\n",
        "\n",
        "Association rule mining falls under the category of unsupervised learning as we don’t have access to the correct answers"
      ],
      "metadata": {
        "id": "LGLa4LUJ5dwu"
      }
    },
    {
      "cell_type": "code",
      "execution_count": 8,
      "metadata": {
        "id": "2TDgGbHn4NyU"
      },
      "outputs": [],
      "source": [
        "import pandas as pd\n",
        "from mlxtend.preprocessing import TransactionEncoder\n",
        "from mlxtend.frequent_patterns import apriori, association_rules\n",
        "transactions = [\n",
        "    ['Milk', 'Egg', 'Bread', 'Butter'],\n",
        "    ['Milk', 'Butter', 'Egg', 'Ketchup'],\n",
        "    ['Bread', 'Butter', 'Ketchup'],\n",
        "    ['Milk', 'Bread', 'Butter'],\n",
        "    ['Bread', 'Butter', 'Cookies'],\n",
        "    ['Milk', 'Bread', 'Butter', 'Cookies'],\n",
        "    ['Milk', 'Cookies'],\n",
        "    ['Milk', 'Bread', 'Butter'],\n",
        "    ['Bread', 'Butter', 'Egg', 'Cookies'],\n",
        "    ['Milk', 'Butter', 'Bread'],\n",
        "    ['Milk', 'Bread', 'Butter'],\n",
        "    ['Milk', 'Bread', 'Cookies', 'Ketchup']\n",
        "]\n",
        "\n",
        "encoder = TransactionEncoder()\n",
        "encoded_transactions = encoder.fit(transactions).transform(transactions)\n",
        "df = pd.DataFrame(encoded_transactions, columns=encoder.columns_)"
      ]
    },
    {
      "cell_type": "markdown",
      "source": [
        "# **Apriori Algorithm**\n",
        "The Apriori algorithm is a classic association rule learning algorithm used in Data Mining to identify frequent itemsets and association rules. It is based on the principle that if a Set of items (itemset) appears frequently in a dataset, then the probability of the co-occurrence of these items is high."
      ],
      "metadata": {
        "id": "kaP3VDz65sk-"
      }
    },
    {
      "cell_type": "code",
      "source": [
        "# Applying the Apriori algorithm with support >=0.33\n",
        "frequent_itemsets = apriori(df, min_support=0.33, use_colnames=True)\n",
        "\n",
        "print(\"Frequent Itemsets:\")\n",
        "print(frequent_itemsets)"
      ],
      "metadata": {
        "colab": {
          "base_uri": "https://localhost:8080/"
        },
        "id": "KlWFH99A4gzt",
        "outputId": "f3395b35-6ec9-4376-e885-38ff855439b9"
      },
      "execution_count": 9,
      "outputs": [
        {
          "output_type": "stream",
          "name": "stdout",
          "text": [
            "Frequent Itemsets:\n",
            "    support               itemsets\n",
            "0  0.833333                (Bread)\n",
            "1  0.833333               (Butter)\n",
            "2  0.416667              (Cookies)\n",
            "3  0.750000                 (Milk)\n",
            "4  0.750000        (Bread, Butter)\n",
            "5  0.333333       (Bread, Cookies)\n",
            "6  0.583333          (Bread, Milk)\n",
            "7  0.583333         (Milk, Butter)\n",
            "8  0.500000  (Bread, Milk, Butter)\n"
          ]
        }
      ]
    },
    {
      "cell_type": "code",
      "source": [
        "# Generating the association rules with confidence of >=0.5\n",
        "rules = association_rules(frequent_itemsets, metric=\"confidence\", min_threshold=0.5)\n",
        "\n",
        "print(\"Association Rules:\")\n",
        "print(rules[['antecedents', 'consequents', 'support', 'confidence', 'lift']])"
      ],
      "metadata": {
        "colab": {
          "base_uri": "https://localhost:8080/"
        },
        "id": "eJr_LUBC4nzN",
        "outputId": "543f3c99-7b0c-4e55-8ad0-4e851db89f99"
      },
      "execution_count": 10,
      "outputs": [
        {
          "output_type": "stream",
          "name": "stdout",
          "text": [
            "Association Rules:\n",
            "        antecedents      consequents   support  confidence      lift\n",
            "0           (Bread)         (Butter)  0.750000    0.900000  1.080000\n",
            "1          (Butter)          (Bread)  0.750000    0.900000  1.080000\n",
            "2         (Cookies)          (Bread)  0.333333    0.800000  0.960000\n",
            "3           (Bread)           (Milk)  0.583333    0.700000  0.933333\n",
            "4            (Milk)          (Bread)  0.583333    0.777778  0.933333\n",
            "5            (Milk)         (Butter)  0.583333    0.777778  0.933333\n",
            "6          (Butter)           (Milk)  0.583333    0.700000  0.933333\n",
            "7     (Bread, Milk)         (Butter)  0.500000    0.857143  1.028571\n",
            "8   (Bread, Butter)           (Milk)  0.500000    0.666667  0.888889\n",
            "9    (Milk, Butter)          (Bread)  0.500000    0.857143  1.028571\n",
            "10          (Bread)   (Milk, Butter)  0.500000    0.600000  1.028571\n",
            "11           (Milk)  (Bread, Butter)  0.500000    0.666667  0.888889\n",
            "12         (Butter)    (Bread, Milk)  0.500000    0.600000  1.028571\n"
          ]
        }
      ]
    },
    {
      "cell_type": "markdown",
      "source": [
        "By performing Apriori-based association rule mining, we extracted valuable insights into how items are frequently bought together.\n",
        "Frequent Itemsets (min_support = 0.33)\n",
        "- Milk & Butter appear together frequently, indicating they are commonly purchased as a pair.\n",
        "- Bread & Butter also have high support, suggesting that consumers prefer them together.\n",
        "- Cookies & Milk show up frequently, reinforcing the idea that they are often consumed together.\n",
        "\n",
        "Association Rules (min_confidence = 0.5)\n",
        "Examples of rules generated:\n",
        "- {Milk} → {Butter} (strong confidence): If a customer buys Milk, they are highly likely to buy Butter.\n",
        "- {Bread, Butter} → {Milk}: People who buy Bread & Butter often buy Milk too.\n",
        "- {Cookies} → {Milk}: A strong indicator that Cookies are frequently paired with Milk.\n"
      ],
      "metadata": {
        "id": "5vgk1Jlf6AMB"
      }
    },
    {
      "cell_type": "markdown",
      "source": [
        "# **ECLAT**\n",
        "\n",
        "ECLAT (Equivalence Class Clustering and bottom-up Lattice Traversal) is a fast and efficient algorithm used in association rule mining to find frequent itemsets in transaction data.\n",
        "\n",
        "Unlike the Apriori algorithm which works in a horizontal format (row-wise transactions), ECLAT works in vertical format, where each item is associated with a list of transactions in which it appears. This makes set intersections fast and memory-efficient.\n",
        "\n",
        "\n",
        "\n"
      ],
      "metadata": {
        "id": "jo_oeLmadlmn"
      }
    },
    {
      "cell_type": "code",
      "source": [
        "import pandas as pd\n",
        "\n",
        "df = pd.DataFrame({\n",
        "    'Bread':  [1,0,0,1,1,0,1,1,1],\n",
        "    'Butter': [1,1,1,1,0,1,0,1,1],\n",
        "    'Milk':   [0,0,1,0,1,1,0,1,1],\n",
        "    'Coke':   [0,1,0,1,1,1,1,1,0],\n",
        "    'Jam':    [1,0,0,0,0,0,0,1,0]}, index=[f\"T{i+1}\" for i in range(9)])\n",
        "\n",
        "vertical = {item: set(df.index[df[item] == 1]) for item in df.columns}"
      ],
      "metadata": {
        "id": "P-dZHy-QdntP"
      },
      "execution_count": 11,
      "outputs": []
    },
    {
      "cell_type": "code",
      "source": [
        "def eclat(prefix, items, min_sup, results):\n",
        "    for i, (item, tids) in enumerate(items):\n",
        "        new_prefix = prefix + [item]\n",
        "        support = len(tids)\n",
        "        if support >= min_sup:\n",
        "            results.append((new_prefix, support))\n",
        "            new_items = [\n",
        "                (other_item, tids & other_tids)\n",
        "                for other_item, other_tids in items[i+1:]\n",
        "                if len(tids & other_tids) >= min_sup\n",
        "            ]\n",
        "            eclat(new_prefix, new_items, min_sup, results)"
      ],
      "metadata": {
        "id": "nsSAXatSd5eL"
      },
      "execution_count": 12,
      "outputs": []
    },
    {
      "cell_type": "code",
      "source": [
        "min_sup = 2\n",
        "results = []\n",
        "eclat([], list(vertical.items()), min_sup, results)\n",
        "\n",
        "print(f\" Frequent Itemsets using ECLAT (support ≥ {min_sup}):\")\n",
        "for items, sup in results:\n",
        "    print(f\"Items: {items}, Support: {sup}\")"
      ],
      "metadata": {
        "colab": {
          "base_uri": "https://localhost:8080/"
        },
        "id": "fiKX8uwed_hz",
        "outputId": "071ed4d1-1bcc-47a7-f955-72001e5c2fdc"
      },
      "execution_count": 13,
      "outputs": [
        {
          "output_type": "stream",
          "name": "stdout",
          "text": [
            " Frequent Itemsets using ECLAT (support ≥ 2):\n",
            "Items: ['Bread'], Support: 6\n",
            "Items: ['Bread', 'Butter'], Support: 4\n",
            "Items: ['Bread', 'Butter', 'Milk'], Support: 2\n",
            "Items: ['Bread', 'Butter', 'Coke'], Support: 2\n",
            "Items: ['Bread', 'Butter', 'Jam'], Support: 2\n",
            "Items: ['Bread', 'Milk'], Support: 3\n",
            "Items: ['Bread', 'Milk', 'Coke'], Support: 2\n",
            "Items: ['Bread', 'Coke'], Support: 4\n",
            "Items: ['Bread', 'Jam'], Support: 2\n",
            "Items: ['Butter'], Support: 7\n",
            "Items: ['Butter', 'Milk'], Support: 4\n",
            "Items: ['Butter', 'Milk', 'Coke'], Support: 2\n",
            "Items: ['Butter', 'Coke'], Support: 4\n",
            "Items: ['Butter', 'Jam'], Support: 2\n",
            "Items: ['Milk'], Support: 5\n",
            "Items: ['Milk', 'Coke'], Support: 3\n",
            "Items: ['Coke'], Support: 6\n",
            "Items: ['Jam'], Support: 2\n"
          ]
        }
      ]
    },
    {
      "cell_type": "markdown",
      "source": [
        "***The result we got is a list of frequent itemsets such as:\n",
        "\n",
        "['Bread'] appears in 6 transactions\n",
        "\n",
        "['Bread', 'Butter'] appears together in 4 transactions\n",
        "\n",
        "['Milk', 'Coke'] appears together in 3 transactions\n",
        "\n",
        "... and so on.\n",
        "\n",
        "This means these combinations are statistically significant in our data and could be useful for:\n",
        "\n",
        "Market basket analysis (e.g., \"People who buy Bread also buy Butter\")\n",
        "\n",
        "Recommendation systems***"
      ],
      "metadata": {
        "id": "gap72bmqeYNm"
      }
    }
  ]
}