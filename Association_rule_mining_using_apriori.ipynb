{
  "nbformat": 4,
  "nbformat_minor": 0,
  "metadata": {
    "colab": {
      "provenance": []
    },
    "kernelspec": {
      "name": "python3",
      "display_name": "Python 3"
    },
    "language_info": {
      "name": "python"
    }
  },
  "cells": [
    {
      "cell_type": "markdown",
      "source": [
        "# **Association Rule Mining**\n",
        "Association rule mining (ARM) finds frequently occurring if-then patterns in the data. The output is in the form of rules that describe the most important combinations of features that co-occur frequently.\n",
        "\n",
        "Association rule mining falls under the category of unsupervised learning as we don’t have access to the correct answers"
      ],
      "metadata": {
        "id": "LGLa4LUJ5dwu"
      }
    },
    {
      "cell_type": "code",
      "execution_count": 3,
      "metadata": {
        "id": "2TDgGbHn4NyU"
      },
      "outputs": [],
      "source": [
        "import pandas as pd\n",
        "from mlxtend.preprocessing import TransactionEncoder\n",
        "from mlxtend.frequent_patterns import apriori, association_rules\n",
        "transactions = [\n",
        "    ['Milk', 'Egg', 'Bread', 'Butter'],\n",
        "    ['Milk', 'Butter', 'Egg', 'Ketchup'],\n",
        "    ['Bread', 'Butter', 'Ketchup'],\n",
        "    ['Milk', 'Bread', 'Butter'],\n",
        "    ['Bread', 'Butter', 'Cookies'],\n",
        "    ['Milk', 'Bread', 'Butter', 'Cookies'],\n",
        "    ['Milk', 'Cookies'],\n",
        "    ['Milk', 'Bread', 'Butter'],\n",
        "    ['Bread', 'Butter', 'Egg', 'Cookies'],\n",
        "    ['Milk', 'Butter', 'Bread'],\n",
        "    ['Milk', 'Bread', 'Butter'],\n",
        "    ['Milk', 'Bread', 'Cookies', 'Ketchup']\n",
        "]\n",
        "\n",
        "encoder = TransactionEncoder()\n",
        "encoded_transactions = encoder.fit(transactions).transform(transactions)\n",
        "df = pd.DataFrame(encoded_transactions, columns=encoder.columns_)"
      ]
    },
    {
      "cell_type": "markdown",
      "source": [
        "# **Apriori Algorithm**\n",
        "The Apriori algorithm is a classic association rule learning algorithm used in Data Mining to identify frequent itemsets and association rules. It is based on the principle that if a Set of items (itemset) appears frequently in a dataset, then the probability of the co-occurrence of these items is high."
      ],
      "metadata": {
        "id": "kaP3VDz65sk-"
      }
    },
    {
      "cell_type": "code",
      "source": [
        "# Applying the Apriori algorithm with support >=0.33\n",
        "frequent_itemsets = apriori(df, min_support=0.33, use_colnames=True)\n",
        "\n",
        "print(\"Frequent Itemsets:\")\n",
        "print(frequent_itemsets)"
      ],
      "metadata": {
        "colab": {
          "base_uri": "https://localhost:8080/"
        },
        "id": "KlWFH99A4gzt",
        "outputId": "ad19f8cc-728a-4fc0-bd44-e4efa54a19fd"
      },
      "execution_count": 4,
      "outputs": [
        {
          "output_type": "stream",
          "name": "stdout",
          "text": [
            "Frequent Itemsets:\n",
            "    support               itemsets\n",
            "0  0.833333                (Bread)\n",
            "1  0.833333               (Butter)\n",
            "2  0.416667              (Cookies)\n",
            "3  0.750000                 (Milk)\n",
            "4  0.750000        (Butter, Bread)\n",
            "5  0.333333       (Cookies, Bread)\n",
            "6  0.583333          (Milk, Bread)\n",
            "7  0.583333         (Milk, Butter)\n",
            "8  0.500000  (Milk, Butter, Bread)\n"
          ]
        }
      ]
    },
    {
      "cell_type": "code",
      "source": [
        "# Generating the association rules with confidence of >=0.5\n",
        "rules = association_rules(frequent_itemsets, metric=\"confidence\", min_threshold=0.5)\n",
        "\n",
        "print(\"Association Rules:\")\n",
        "print(rules[['antecedents', 'consequents', 'support', 'confidence', 'lift']])"
      ],
      "metadata": {
        "colab": {
          "base_uri": "https://localhost:8080/"
        },
        "id": "eJr_LUBC4nzN",
        "outputId": "8d0edf68-ee5f-4751-df21-9c037c836bc2"
      },
      "execution_count": 11,
      "outputs": [
        {
          "output_type": "stream",
          "name": "stdout",
          "text": [
            "Association Rules:\n",
            "        antecedents      consequents   support  confidence      lift\n",
            "0          (Butter)          (Bread)  0.750000    0.900000  1.080000\n",
            "1           (Bread)         (Butter)  0.750000    0.900000  1.080000\n",
            "2         (Cookies)          (Bread)  0.333333    0.800000  0.960000\n",
            "3            (Milk)          (Bread)  0.583333    0.777778  0.933333\n",
            "4           (Bread)           (Milk)  0.583333    0.700000  0.933333\n",
            "5            (Milk)         (Butter)  0.583333    0.777778  0.933333\n",
            "6          (Butter)           (Milk)  0.583333    0.700000  0.933333\n",
            "7    (Milk, Butter)          (Bread)  0.500000    0.857143  1.028571\n",
            "8     (Milk, Bread)         (Butter)  0.500000    0.857143  1.028571\n",
            "9   (Butter, Bread)           (Milk)  0.500000    0.666667  0.888889\n",
            "10           (Milk)  (Butter, Bread)  0.500000    0.666667  0.888889\n",
            "11         (Butter)    (Milk, Bread)  0.500000    0.600000  1.028571\n",
            "12          (Bread)   (Milk, Butter)  0.500000    0.600000  1.028571\n"
          ]
        }
      ]
    },
    {
      "cell_type": "markdown",
      "source": [
        "By performing Apriori-based association rule mining, we extracted valuable insights into how items are frequently bought together.\n",
        "Frequent Itemsets (min_support = 0.33)\n",
        "- Milk & Butter appear together frequently, indicating they are commonly purchased as a pair.\n",
        "- Bread & Butter also have high support, suggesting that consumers prefer them together.\n",
        "- Cookies & Milk show up frequently, reinforcing the idea that they are often consumed together.\n",
        "\n",
        "Association Rules (min_confidence = 0.5)\n",
        "Examples of rules generated:\n",
        "- {Milk} → {Butter} (strong confidence): If a customer buys Milk, they are highly likely to buy Butter.\n",
        "- {Bread, Butter} → {Milk}: People who buy Bread & Butter often buy Milk too.\n",
        "- {Cookies} → {Milk}: A strong indicator that Cookies are frequently paired with Milk.\n"
      ],
      "metadata": {
        "id": "5vgk1Jlf6AMB"
      }
    }
  ]
}